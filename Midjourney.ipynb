{
 "cells": [
  {
   "cell_type": "code",
   "execution_count": null,
   "metadata": {},
   "outputs": [],
   "source": [
    "# !pip install selenium\n",
    "# !pip install selenium chromedriver-autoinstaller\n",
    "# !pip install webdriver-manager\n",
    "# !pip install undetected-chromedriver"
   ]
  },
  {
   "cell_type": "code",
   "execution_count": null,
   "metadata": {},
   "outputs": [],
   "source": [
    "# !apt-get update\n",
    "# !apt-get install -y chromium-browser\n",
    "# !apt-get install chromium-chromedriver"
   ]
  },
  {
   "cell_type": "code",
   "execution_count": 1,
   "metadata": {},
   "outputs": [],
   "source": [
    "import selenium\n",
    "from selenium import webdriver\n",
    "from selenium.webdriver.common.by import By\n",
    "from selenium.webdriver.common.keys import Keys\n",
    "from selenium.webdriver.support.ui import WebDriverWait\n",
    "from selenium.webdriver.support import expected_conditions as EC\n",
    "import pandas as pd\n",
    "from PIL import Image\n",
    "from io import BytesIO\n",
    "import os\n",
    "import io\n",
    "import shutil\n",
    "\n",
    "import pandas as pd\n",
    "import re\n",
    "import requests\n",
    "\n",
    "from time import sleep\n",
    "import time"
   ]
  },
  {
   "cell_type": "code",
   "execution_count": 1,
   "metadata": {},
   "outputs": [],
   "source": [
    "import undetected_chromedriver as uc\n",
    "from selenium.webdriver.common.by import By\n",
    "from selenium.webdriver.support.ui import WebDriverWait\n",
    "from selenium.webdriver.support import expected_conditions as EC\n",
    "from selenium.webdriver.common.keys import Keys\n",
    "import time\n",
    "\n",
    "options = uc.ChromeOptions()\n",
    "# Configure options as needed\n",
    "# options.add_argument('--headless')  # Optional, if you don't want a GUI.\n",
    "options.add_argument('--no-sandbox')\n",
    "options.add_argument('--disable-dev-shm-usage')\n",
    "options.add_argument(\"--disable-blink-features=AutomationControlled\")\n",
    "driver = uc.Chrome(options=options)\n",
    "driver.get(\"https://discord.com/login\")"
   ]
  },
  {
   "cell_type": "code",
   "execution_count": 2,
   "metadata": {},
   "outputs": [],
   "source": [
    "driver.maximize_window();\n",
    "driver.get(\"https://discord.com/channels/1155301271088152709/1155315618116022322\")\n",
    "time.sleep(10)"
   ]
  },
  {
   "cell_type": "code",
   "execution_count": 5,
   "metadata": {},
   "outputs": [
    {
     "name": "stdout",
     "output_type": "stream",
     "text": [
      "Image Tweet_1.png saved successfully\n",
      "Image Tweet_2.png saved successfully\n",
      "Image Tweet_3.png saved successfully\n"
     ]
    }
   ],
   "source": [
    "from selenium.webdriver.common.by import By\n",
    "from selenium.webdriver.common.action_chains import ActionChains\n",
    "from selenium.webdriver.common.keys import Keys\n",
    "import time\n",
    "import requests\n",
    "import os\n",
    "\n",
    "# Get the current working directory\n",
    "current_dir = os.getcwd()\n",
    "# Define the download directory within the Midjourney folder\n",
    "download_dir = os.path.join(current_dir, 'Midjourney')\n",
    "if not os.path.exists(download_dir):\n",
    "    os.makedirs(download_dir)\n",
    "\n",
    "# Read prompts from prompts.txt file\n",
    "with open('prompts.txt', 'r') as file:\n",
    "    prompts = file.readlines()\n",
    "\n",
    "# Initialize a counter for the image names\n",
    "image_counter = 1\n",
    "\n",
    "# Loop through each prompt and generate images\n",
    "for prompt_text in prompts:\n",
    "    # Find the div element using its data-slate-node attribute\n",
    "    div_element = driver.find_element(By.CSS_SELECTOR, 'div[data-slate-node=\"element\"]')\n",
    "\n",
    "    # Click on the div to focus on it\n",
    "    ActionChains(driver).click(div_element).perform()\n",
    "\n",
    "    # Wait for a second to ensure the cursor is focused\n",
    "    time.sleep(1)\n",
    "\n",
    "    # Type \"/imagine\" and the prompt text together\n",
    "    ActionChains(driver).send_keys(f\"/imagine {prompt_text.strip()}\").perform()\n",
    "\n",
    "    # Press Enter to submit the command and prompt\n",
    "    ActionChains(driver).send_keys(Keys.RETURN).perform()\n",
    "\n",
    "    # Wait for image generation to complete (average time 1 minute)\n",
    "    time.sleep(60)\n",
    "\n",
    "    # Find all div elements with the class \"loadingOverlay__35a04\"\n",
    "    div_elements = driver.find_elements(By.CSS_SELECTOR, 'div.loadingOverlay__35a04')\n",
    "\n",
    "    # Get the latest div element (assuming it's the last one in the list)\n",
    "    latest_div_element = div_elements[-2]\n",
    "\n",
    "    # Extract the image source URL from the img tag within the div element\n",
    "    image_src = latest_div_element.find_element(By.TAG_NAME, 'img').get_attribute('src')\n",
    "\n",
    "    # Download the image using requests\n",
    "    response = requests.get(image_src)\n",
    "    if response.status_code == 200:\n",
    "        # Save the image to a file with the Tweet number\n",
    "        image_name = f\"Tweet_{image_counter}.png\"\n",
    "        with open(os.path.join(download_dir, image_name), \"wb\") as f:\n",
    "            f.write(response.content)\n",
    "            print(f\"Image {image_name} saved successfully\")\n",
    "            image_counter += 1\n",
    "    else:\n",
    "        print(\"Failed to download the image\")"
   ]
  },
  {
   "cell_type": "code",
   "execution_count": 4,
   "metadata": {},
   "outputs": [],
   "source": [
    "import os\n",
    "from PIL import Image\n",
    "\n",
    "# Define the path to the Midjourney folder\n",
    "midjourney_dir = \"Midjourney\"  # Replace with the actual path to your Midjourney folder\n",
    "\n",
    "# Loop through all files in the Midjourney folder\n",
    "for filename in os.listdir(midjourney_dir):\n",
    "    if filename.endswith(\".png\") or filename.endswith(\".jpg\"):  # Assuming images are PNG or JPG format\n",
    "        # Open the image file\n",
    "        image_path = os.path.join(midjourney_dir, filename)\n",
    "        image = Image.open(image_path)\n",
    "\n",
    "        # Get the dimensions of the image\n",
    "        width, height = image.size\n",
    "\n",
    "        # Calculate the dimensions for the top-left quarter (50% length, 50% breadth)\n",
    "        quarter_width = width // 2\n",
    "        quarter_height = height // 2\n",
    "\n",
    "        # Crop the top-left quarter\n",
    "        quarter_image = image.crop((0, 0, quarter_width, quarter_height))\n",
    "\n",
    "        # Resize the cropped quarter to 50% of its original size\n",
    "        resized_quarter = quarter_image.resize((quarter_width // 2, quarter_height // 2))\n",
    "\n",
    "        # Define the new filename with the \"Tweet_\" prefix and appropriate extension\n",
    "        new_filename = f\"Tweet_{filename.split('.')[0]}.png\"\n",
    "\n",
    "        # Save the resized quarter image in the Midjourney folder\n",
    "        resized_quarter.save(os.path.join(midjourney_dir, new_filename))\n",
    "\n",
    "        # Delete the original image file\n",
    "        os.remove(image_path)\n"
   ]
  },
  {
   "cell_type": "code",
   "execution_count": 7,
   "metadata": {},
   "outputs": [],
   "source": [
    "from PIL import Image\n",
    "\n",
    "# Open the downloaded image using PIL\n",
    "img = Image.open(\"latest_image.png\")\n",
    "img.show()  # Display the image\n"
   ]
  },
  {
   "cell_type": "code",
   "execution_count": 8,
   "metadata": {},
   "outputs": [
    {
     "name": "stdout",
     "output_type": "stream",
     "text": [
      "First quarter of the image saved successfully as 'first_quarter_image.png'\n"
     ]
    }
   ],
   "source": [
    "from PIL import Image\n",
    "\n",
    "# Open the downloaded image using PIL\n",
    "img = Image.open(\"latest_image.png\")\n",
    "\n",
    "# Get the size of the image\n",
    "width, height = img.size\n",
    "\n",
    "# Calculate the coordinates for cropping the first quarter\n",
    "left = 0\n",
    "top = 0\n",
    "right = width // 2\n",
    "bottom = height // 2\n",
    "\n",
    "# Crop the image to the first quarter\n",
    "cropped_img = img.crop((left, top, right, bottom))\n",
    "\n",
    "# Save the cropped image to a file\n",
    "cropped_img.save(\"first_quarter_image.png\")\n",
    "print(\"First quarter of the image saved successfully as 'first_quarter_image.png'\")\n",
    "\n",
    "# Display the cropped image\n",
    "cropped_img.show()\n"
   ]
  },
  {
   "cell_type": "code",
   "execution_count": 4,
   "metadata": {},
   "outputs": [],
   "source": [
    "# Close the web driver\n",
    "driver.quit()"
   ]
  }
 ],
 "metadata": {
  "kernelspec": {
   "display_name": "Python 3",
   "language": "python",
   "name": "python3"
  },
  "language_info": {
   "codemirror_mode": {
    "name": "ipython",
    "version": 3
   },
   "file_extension": ".py",
   "mimetype": "text/x-python",
   "name": "python",
   "nbconvert_exporter": "python",
   "pygments_lexer": "ipython3",
   "version": "3.10.11"
  }
 },
 "nbformat": 4,
 "nbformat_minor": 2
}
