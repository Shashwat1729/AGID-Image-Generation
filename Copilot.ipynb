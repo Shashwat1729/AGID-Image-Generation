{
 "cells": [
  {
   "cell_type": "code",
   "execution_count": 4,
   "metadata": {},
   "outputs": [
    {
     "name": "stdout",
     "output_type": "stream",
     "text": [
      "Requirement already satisfied: user_agent in c:\\users\\shash\\appdata\\local\\packages\\pythonsoftwarefoundation.python.3.10_qbz5n2kfra8p0\\localcache\\local-packages\\python310\\site-packages (0.1.10)\n",
      "Requirement already satisfied: six in c:\\users\\shash\\appdata\\local\\packages\\pythonsoftwarefoundation.python.3.10_qbz5n2kfra8p0\\localcache\\local-packages\\python310\\site-packages (from user_agent) (1.16.0)\n"
     ]
    }
   ],
   "source": [
    "# !pip install selenium\n",
    "# !pip install selenium chromedriver-autoinstaller\n",
    "# !pip install webdriver-manager\n",
    "# !pip install undetected-chromedriver\n",
    "# !pip install scikit-image\n",
    "# !pip install user_agent\n",
    "# !pip install pyautogui"
   ]
  },
  {
   "cell_type": "code",
   "execution_count": 3,
   "metadata": {},
   "outputs": [],
   "source": [
    "# !apt-get update\n",
    "# !apt-get install -y chromium-browser\n",
    "# !apt-get install chromium-chromedriver"
   ]
  },
  {
   "cell_type": "code",
   "execution_count": 2,
   "metadata": {},
   "outputs": [],
   "source": [
    "import os\n",
    "import random\n",
    "import requests\n",
    "import time\n",
    "import user_agent\n",
    "import pyautogui\n",
    "import undetected_chromedriver as uc\n",
    "from selenium.webdriver.common.by import By\n",
    "from selenium.webdriver.support.ui import WebDriverWait\n",
    "from selenium.webdriver.support import expected_conditions as EC\n"
   ]
  },
  {
   "cell_type": "code",
   "execution_count": 3,
   "metadata": {},
   "outputs": [],
   "source": [
    "# Get the current working directory\n",
    "current_dir = os.getcwd()\n",
    "# Define download directory within the Midjourney folder\n",
    "download_dir = os.path.join(current_dir, 'Copilot')\n",
    "if not os.path.exists(download_dir):\n",
    "    os.makedirs(download_dir)\n",
    "    \n",
    "# Define Chrome options and experimental preferences\n",
    "options = uc.ChromeOptions()\n",
    "\n",
    "options.add_argument('--no-sandbox')\n",
    "options.add_argument('--disable-dev-shm-usage')\n",
    "options.add_argument('--disable-blink-features=AutomationControlled')\n",
    "options.add_argument(\"--disable-popup-blocking\")\n",
    "options.add_argument(f\"user-agent={user_agent.generate_user_agent()}\")\n",
    "prefs = {\n",
    "    \"profile.default_content_settings.popups\": 0,\n",
    "    \"profile.content_settings.pattern_pairs.*.multiple-automatic-downloads\": 1,\n",
    "    \"download.prompt_for_download\": False,\n",
    "    \"download.default_directory\": download_dir\n",
    "}\n",
    "options.add_experimental_option(\"prefs\",prefs)\n",
    "# Initialize undetected Chrome driver with the configured options\n",
    "driver = uc.Chrome(options=options)\n",
    "\n",
    "driver.get(\"https://www.bing.com/images/create?FORM=IRPGEN\")"
   ]
  },
  {
   "cell_type": "code",
   "execution_count": 4,
   "metadata": {},
   "outputs": [],
   "source": [
    "# Open new tabs in the existing window with Bing Image Search for creating images\n",
    "for i in range(3):\n",
    "    driver.execute_script(\"window.open('https://www.bing.com/images/create?FORM=IRPGEN', '_blank');\")"
   ]
  },
  {
   "cell_type": "code",
   "execution_count": null,
   "metadata": {},
   "outputs": [],
   "source": [
    "# Get the current working directory\n",
    "current_dir = os.getcwd()\n",
    "\n",
    "# Get screen dimensions for random movement within the screen\n",
    "screen_width, screen_height = pyautogui.size()\n",
    "\n",
    "# Randomize mouse movement within the screen\n",
    "x = random.randint(0, screen_width)\n",
    "y = random.randint(0, screen_height)\n",
    "\n",
    "# Define download directory within the Copilot folder\n",
    "download_dir = os.path.join(current_dir, 'Copilot')\n",
    "if not os.path.exists(download_dir):\n",
    "    os.makedirs(download_dir)\n",
    "\n",
    "# Open prompts.txt file for reading\n",
    "with open('prompts.txt', 'r') as file:\n",
    "    # Read all lines (prompts) from the file\n",
    "    prompts = file.readlines()\n",
    "    num_prompts = len(prompts)\n",
    "\n",
    "    # Initialize a counter for prompt number\n",
    "    prompt_number = 1\n",
    "\n",
    "    # Loop through each set of prompts for each tab\n",
    "    for i in range(0, num_prompts, len(driver.window_handles)):\n",
    "        # Loop through each tab and give the prompt from the current set\n",
    "        for tab_index in range(len(driver.window_handles)):\n",
    "            try:\n",
    "                # Get the prompt text for the current tab index\n",
    "                prompt_text = prompts[i + tab_index].strip()\n",
    "\n",
    "                driver.switch_to.window(driver.window_handles[tab_index])\n",
    "                \n",
    "                driver.get(\"https://www.bing.com/images/create?FORM=IRPGEN\")\n",
    "\n",
    "                # Find the text input field using its name attribute\n",
    "                time.sleep(random.uniform(5, 10))\n",
    "                text_input = WebDriverWait(driver, 2).until(EC.visibility_of_element_located((By.NAME, \"q\")))\n",
    "                # Clear any existing text in the input field\n",
    "                text_input.clear()\n",
    "                # Enter the prompt text into the text input field\n",
    "                text_input.send_keys(prompt_text)\n",
    "\n",
    "                pyautogui.moveTo(x, y, duration=random.uniform(0.5, 1))\n",
    "\n",
    "                # Find the div containing the 'Create' button and click on it\n",
    "                time.sleep(random.uniform(2, 5))\n",
    "                create_button = WebDriverWait(driver, 2).until(EC.visibility_of_element_located((By.ID, \"create_btn_c\")))\n",
    "                create_button.click()\n",
    "\n",
    "            except Exception as e:\n",
    "                print(f\"Exception occurred in tab {prompt_number}: Create button not clicked\")\n",
    "                driver.get(\"https://www.bing.com/images/create?FORM=IRPGEN\")\n",
    "                time.sleep(random.uniform(2, 5))\n",
    "                continue\n",
    "\n",
    "        # Loop to get the image source URLs and download images\n",
    "        for tab_index in range(len(driver.window_handles)):\n",
    "            driver.switch_to.window(driver.window_handles[tab_index])\n",
    "\n",
    "            # Wait for a specified time only in the first tab\n",
    "            if tab_index == 0:\n",
    "                driver.switch_to.window(driver.window_handles[0])\n",
    "                time.sleep(random.uniform(80, 120))\n",
    "\n",
    "            try:\n",
    "                # Wait for a random time\n",
    "                driver.get(driver.current_url)\n",
    "                time.sleep(random.uniform(2, 4))\n",
    "\n",
    "                # Wait for the image element to be visible\n",
    "                image_element = WebDriverWait(driver, 10).until(EC.visibility_of_element_located((By.XPATH, \"//img[@class='mimg']\")))\n",
    "\n",
    "                # Get the image source URL\n",
    "                image_src = image_element.get_attribute(\"src\")\n",
    "\n",
    "                # Download the image using requests\n",
    "                response = requests.get(image_src)\n",
    "\n",
    "                # Save the image to a file with the prompt number as part of the name\n",
    "                image_name = f\"Tweet_{prompt_number}.jpg\"\n",
    "                with open(os.path.join(download_dir, image_name), 'wb') as image_file:\n",
    "                    image_file.write(response.content)\n",
    "                    print(f\"{image_name} downloaded:\")\n",
    "\n",
    "            except Exception as e:\n",
    "                print(\"Image not downloaded for {prompt_number} prompt in tab {tab_index + 1}\")\n",
    "                driver.get(\"https://www.bing.com/images/create?FORM=IRPGEN\")\n",
    "\n",
    "            prompt_number += 1\n"
   ]
  },
  {
   "cell_type": "code",
   "execution_count": null,
   "metadata": {},
   "outputs": [],
   "source": [
    "# Close the web driver\n",
    "driver.quit()"
   ]
  }
 ],
 "metadata": {
  "kernelspec": {
   "display_name": "Python 3",
   "language": "python",
   "name": "python3"
  },
  "language_info": {
   "codemirror_mode": {
    "name": "ipython",
    "version": 3
   },
   "file_extension": ".py",
   "mimetype": "text/x-python",
   "name": "python",
   "nbconvert_exporter": "python",
   "pygments_lexer": "ipython3",
   "version": "3.10.11"
  }
 },
 "nbformat": 4,
 "nbformat_minor": 2
}
