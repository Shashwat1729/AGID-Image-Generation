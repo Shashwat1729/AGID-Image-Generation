{
 "cells": [
  {
   "cell_type": "code",
   "execution_count": 2,
   "metadata": {},
   "outputs": [
    {
     "name": "stdout",
     "output_type": "stream",
     "text": [
      "Requirement already satisfied: undetected-chromedriver in c:\\users\\shash\\appdata\\local\\packages\\pythonsoftwarefoundation.python.3.10_qbz5n2kfra8p0\\localcache\\local-packages\\python310\\site-packages (3.5.5)\n",
      "Requirement already satisfied: selenium>=4.9.0 in c:\\users\\shash\\appdata\\local\\packages\\pythonsoftwarefoundation.python.3.10_qbz5n2kfra8p0\\localcache\\local-packages\\python310\\site-packages (from undetected-chromedriver) (4.13.0)\n",
      "Requirement already satisfied: requests in c:\\users\\shash\\appdata\\local\\packages\\pythonsoftwarefoundation.python.3.10_qbz5n2kfra8p0\\localcache\\local-packages\\python310\\site-packages (from undetected-chromedriver) (2.31.0)\n",
      "Requirement already satisfied: websockets in c:\\users\\shash\\appdata\\local\\packages\\pythonsoftwarefoundation.python.3.10_qbz5n2kfra8p0\\localcache\\local-packages\\python310\\site-packages (from undetected-chromedriver) (12.0)\n",
      "Requirement already satisfied: urllib3<3,>=1.26 in c:\\users\\shash\\appdata\\local\\packages\\pythonsoftwarefoundation.python.3.10_qbz5n2kfra8p0\\localcache\\local-packages\\python310\\site-packages (from urllib3[socks]<3,>=1.26->selenium>=4.9.0->undetected-chromedriver) (1.26.15)\n",
      "Requirement already satisfied: trio~=0.17 in c:\\users\\shash\\appdata\\local\\packages\\pythonsoftwarefoundation.python.3.10_qbz5n2kfra8p0\\localcache\\local-packages\\python310\\site-packages (from selenium>=4.9.0->undetected-chromedriver) (0.22.2)\n",
      "Requirement already satisfied: trio-websocket~=0.9 in c:\\users\\shash\\appdata\\local\\packages\\pythonsoftwarefoundation.python.3.10_qbz5n2kfra8p0\\localcache\\local-packages\\python310\\site-packages (from selenium>=4.9.0->undetected-chromedriver) (0.11.1)\n",
      "Requirement already satisfied: certifi>=2021.10.8 in c:\\users\\shash\\appdata\\local\\packages\\pythonsoftwarefoundation.python.3.10_qbz5n2kfra8p0\\localcache\\local-packages\\python310\\site-packages (from selenium>=4.9.0->undetected-chromedriver) (2023.5.7)\n",
      "Requirement already satisfied: charset-normalizer<4,>=2 in c:\\users\\shash\\appdata\\local\\packages\\pythonsoftwarefoundation.python.3.10_qbz5n2kfra8p0\\localcache\\local-packages\\python310\\site-packages (from requests->undetected-chromedriver) (3.2.0)\n",
      "Requirement already satisfied: idna<4,>=2.5 in c:\\users\\shash\\appdata\\local\\packages\\pythonsoftwarefoundation.python.3.10_qbz5n2kfra8p0\\localcache\\local-packages\\python310\\site-packages (from requests->undetected-chromedriver) (2.10)\n",
      "Requirement already satisfied: attrs>=20.1.0 in c:\\users\\shash\\appdata\\local\\packages\\pythonsoftwarefoundation.python.3.10_qbz5n2kfra8p0\\localcache\\local-packages\\python310\\site-packages (from trio~=0.17->selenium>=4.9.0->undetected-chromedriver) (23.1.0)\n",
      "Requirement already satisfied: sortedcontainers in c:\\users\\shash\\appdata\\local\\packages\\pythonsoftwarefoundation.python.3.10_qbz5n2kfra8p0\\localcache\\local-packages\\python310\\site-packages (from trio~=0.17->selenium>=4.9.0->undetected-chromedriver) (2.4.0)\n",
      "Requirement already satisfied: outcome in c:\\users\\shash\\appdata\\local\\packages\\pythonsoftwarefoundation.python.3.10_qbz5n2kfra8p0\\localcache\\local-packages\\python310\\site-packages (from trio~=0.17->selenium>=4.9.0->undetected-chromedriver) (1.2.0)\n",
      "Requirement already satisfied: sniffio in c:\\users\\shash\\appdata\\local\\packages\\pythonsoftwarefoundation.python.3.10_qbz5n2kfra8p0\\localcache\\local-packages\\python310\\site-packages (from trio~=0.17->selenium>=4.9.0->undetected-chromedriver) (1.3.0)\n",
      "Requirement already satisfied: cffi>=1.14 in c:\\users\\shash\\appdata\\local\\packages\\pythonsoftwarefoundation.python.3.10_qbz5n2kfra8p0\\localcache\\local-packages\\python310\\site-packages (from trio~=0.17->selenium>=4.9.0->undetected-chromedriver) (1.15.1)\n",
      "Requirement already satisfied: exceptiongroup>=1.0.0rc9 in c:\\users\\shash\\appdata\\local\\packages\\pythonsoftwarefoundation.python.3.10_qbz5n2kfra8p0\\localcache\\local-packages\\python310\\site-packages (from trio~=0.17->selenium>=4.9.0->undetected-chromedriver) (1.1.3)\n",
      "Requirement already satisfied: wsproto>=0.14 in c:\\users\\shash\\appdata\\local\\packages\\pythonsoftwarefoundation.python.3.10_qbz5n2kfra8p0\\localcache\\local-packages\\python310\\site-packages (from trio-websocket~=0.9->selenium>=4.9.0->undetected-chromedriver) (1.2.0)\n",
      "Requirement already satisfied: PySocks!=1.5.7,<2.0,>=1.5.6 in c:\\users\\shash\\appdata\\local\\packages\\pythonsoftwarefoundation.python.3.10_qbz5n2kfra8p0\\localcache\\local-packages\\python310\\site-packages (from urllib3[socks]<3,>=1.26->selenium>=4.9.0->undetected-chromedriver) (1.7.1)\n",
      "Requirement already satisfied: pycparser in c:\\users\\shash\\appdata\\local\\packages\\pythonsoftwarefoundation.python.3.10_qbz5n2kfra8p0\\localcache\\local-packages\\python310\\site-packages (from cffi>=1.14->trio~=0.17->selenium>=4.9.0->undetected-chromedriver) (2.21)\n",
      "Requirement already satisfied: h11<1,>=0.9.0 in c:\\users\\shash\\appdata\\local\\packages\\pythonsoftwarefoundation.python.3.10_qbz5n2kfra8p0\\localcache\\local-packages\\python310\\site-packages (from wsproto>=0.14->trio-websocket~=0.9->selenium>=4.9.0->undetected-chromedriver) (0.14.0)\n"
     ]
    }
   ],
   "source": [
    "# !pip install selenium\n",
    "# !pip install selenium chromedriver-autoinstaller\n",
    "# !pip install webdriver-manager\n",
    "# !pip install undetected-chromedriver\n",
    "# !pip install scikit-image\n",
    "# !pip install user_agent\n",
    "# !pip install pyautogui\n",
    "# !pip install fake_useragent\n",
    "# !pip install selenium-stealth"
   ]
  },
  {
   "cell_type": "code",
   "execution_count": 16,
   "metadata": {},
   "outputs": [
    {
     "name": "stdout",
     "output_type": "stream",
     "text": [
      "Requirement already satisfied: undetected-chromedriver in c:\\users\\shash\\appdata\\local\\packages\\pythonsoftwarefoundation.python.3.10_qbz5n2kfra8p0\\localcache\\local-packages\\python310\\site-packages (3.0.0)\n",
      "Collecting undetected-chromedriver\n",
      "  Using cached undetected_chromedriver-3.5.5-py3-none-any.whl\n",
      "Requirement already satisfied: selenium>=4.9.0 in c:\\users\\shash\\appdata\\local\\packages\\pythonsoftwarefoundation.python.3.10_qbz5n2kfra8p0\\localcache\\local-packages\\python310\\site-packages (from undetected-chromedriver) (4.13.0)\n",
      "Requirement already satisfied: requests in c:\\users\\shash\\appdata\\local\\packages\\pythonsoftwarefoundation.python.3.10_qbz5n2kfra8p0\\localcache\\local-packages\\python310\\site-packages (from undetected-chromedriver) (2.31.0)\n",
      "Requirement already satisfied: websockets in c:\\users\\shash\\appdata\\local\\packages\\pythonsoftwarefoundation.python.3.10_qbz5n2kfra8p0\\localcache\\local-packages\\python310\\site-packages (from undetected-chromedriver) (12.0)\n",
      "Requirement already satisfied: urllib3<3,>=1.26 in c:\\users\\shash\\appdata\\local\\packages\\pythonsoftwarefoundation.python.3.10_qbz5n2kfra8p0\\localcache\\local-packages\\python310\\site-packages (from urllib3[socks]<3,>=1.26->selenium>=4.9.0->undetected-chromedriver) (1.26.15)\n",
      "Requirement already satisfied: trio~=0.17 in c:\\users\\shash\\appdata\\local\\packages\\pythonsoftwarefoundation.python.3.10_qbz5n2kfra8p0\\localcache\\local-packages\\python310\\site-packages (from selenium>=4.9.0->undetected-chromedriver) (0.22.2)\n",
      "Requirement already satisfied: trio-websocket~=0.9 in c:\\users\\shash\\appdata\\local\\packages\\pythonsoftwarefoundation.python.3.10_qbz5n2kfra8p0\\localcache\\local-packages\\python310\\site-packages (from selenium>=4.9.0->undetected-chromedriver) (0.11.1)\n",
      "Requirement already satisfied: certifi>=2021.10.8 in c:\\users\\shash\\appdata\\local\\packages\\pythonsoftwarefoundation.python.3.10_qbz5n2kfra8p0\\localcache\\local-packages\\python310\\site-packages (from selenium>=4.9.0->undetected-chromedriver) (2023.5.7)\n",
      "Requirement already satisfied: charset-normalizer<4,>=2 in c:\\users\\shash\\appdata\\local\\packages\\pythonsoftwarefoundation.python.3.10_qbz5n2kfra8p0\\localcache\\local-packages\\python310\\site-packages (from requests->undetected-chromedriver) (3.2.0)\n",
      "Requirement already satisfied: idna<4,>=2.5 in c:\\users\\shash\\appdata\\local\\packages\\pythonsoftwarefoundation.python.3.10_qbz5n2kfra8p0\\localcache\\local-packages\\python310\\site-packages (from requests->undetected-chromedriver) (2.10)\n",
      "Requirement already satisfied: attrs>=20.1.0 in c:\\users\\shash\\appdata\\local\\packages\\pythonsoftwarefoundation.python.3.10_qbz5n2kfra8p0\\localcache\\local-packages\\python310\\site-packages (from trio~=0.17->selenium>=4.9.0->undetected-chromedriver) (23.1.0)\n",
      "Requirement already satisfied: sortedcontainers in c:\\users\\shash\\appdata\\local\\packages\\pythonsoftwarefoundation.python.3.10_qbz5n2kfra8p0\\localcache\\local-packages\\python310\\site-packages (from trio~=0.17->selenium>=4.9.0->undetected-chromedriver) (2.4.0)\n",
      "Requirement already satisfied: outcome in c:\\users\\shash\\appdata\\local\\packages\\pythonsoftwarefoundation.python.3.10_qbz5n2kfra8p0\\localcache\\local-packages\\python310\\site-packages (from trio~=0.17->selenium>=4.9.0->undetected-chromedriver) (1.2.0)\n",
      "Requirement already satisfied: sniffio in c:\\users\\shash\\appdata\\local\\packages\\pythonsoftwarefoundation.python.3.10_qbz5n2kfra8p0\\localcache\\local-packages\\python310\\site-packages (from trio~=0.17->selenium>=4.9.0->undetected-chromedriver) (1.3.0)\n",
      "Requirement already satisfied: cffi>=1.14 in c:\\users\\shash\\appdata\\local\\packages\\pythonsoftwarefoundation.python.3.10_qbz5n2kfra8p0\\localcache\\local-packages\\python310\\site-packages (from trio~=0.17->selenium>=4.9.0->undetected-chromedriver) (1.15.1)\n",
      "Requirement already satisfied: exceptiongroup>=1.0.0rc9 in c:\\users\\shash\\appdata\\local\\packages\\pythonsoftwarefoundation.python.3.10_qbz5n2kfra8p0\\localcache\\local-packages\\python310\\site-packages (from trio~=0.17->selenium>=4.9.0->undetected-chromedriver) (1.1.3)\n",
      "Requirement already satisfied: wsproto>=0.14 in c:\\users\\shash\\appdata\\local\\packages\\pythonsoftwarefoundation.python.3.10_qbz5n2kfra8p0\\localcache\\local-packages\\python310\\site-packages (from trio-websocket~=0.9->selenium>=4.9.0->undetected-chromedriver) (1.2.0)\n",
      "Requirement already satisfied: PySocks!=1.5.7,<2.0,>=1.5.6 in c:\\users\\shash\\appdata\\local\\packages\\pythonsoftwarefoundation.python.3.10_qbz5n2kfra8p0\\localcache\\local-packages\\python310\\site-packages (from urllib3[socks]<3,>=1.26->selenium>=4.9.0->undetected-chromedriver) (1.7.1)\n",
      "Requirement already satisfied: pycparser in c:\\users\\shash\\appdata\\local\\packages\\pythonsoftwarefoundation.python.3.10_qbz5n2kfra8p0\\localcache\\local-packages\\python310\\site-packages (from cffi>=1.14->trio~=0.17->selenium>=4.9.0->undetected-chromedriver) (2.21)\n",
      "Requirement already satisfied: h11<1,>=0.9.0 in c:\\users\\shash\\appdata\\local\\packages\\pythonsoftwarefoundation.python.3.10_qbz5n2kfra8p0\\localcache\\local-packages\\python310\\site-packages (from wsproto>=0.14->trio-websocket~=0.9->selenium>=4.9.0->undetected-chromedriver) (0.14.0)\n",
      "Installing collected packages: undetected-chromedriver\n",
      "  Attempting uninstall: undetected-chromedriver\n",
      "    Found existing installation: undetected-chromedriver 3.0.0\n",
      "    Uninstalling undetected-chromedriver-3.0.0:\n",
      "      Successfully uninstalled undetected-chromedriver-3.0.0\n",
      "Successfully installed undetected-chromedriver-3.5.5\n"
     ]
    }
   ],
   "source": [
    "# !apt-get update\n",
    "# !apt-get install -y chromium-browser\n",
    "# !apt-get install chromium-chromedriver\n"
   ]
  },
  {
   "cell_type": "code",
   "execution_count": 1,
   "metadata": {},
   "outputs": [],
   "source": [
    "import os\n",
    "import random\n",
    "import requests\n",
    "import time\n",
    "import user_agent\n",
    "import pyautogui\n",
    "import undetected_chromedriver as uc\n",
    "from selenium.webdriver.common.by import By\n",
    "from selenium.webdriver.support.ui import WebDriverWait\n",
    "from selenium.webdriver.support import expected_conditions as EC\n",
    "from selenium.common.exceptions import WebDriverException\n",
    "from webdriver_manager.chrome import ChromeDriverManager"
   ]
  },
  {
   "cell_type": "code",
   "execution_count": 2,
   "metadata": {},
   "outputs": [],
   "source": [
    "# Get the current working directory\n",
    "current_dir = os.getcwd()\n",
    "\n",
    "# Define download directory within the 'Copilot' folder\n",
    "download_dir = os.path.join(current_dir, 'Copilot')\n",
    "if not os.path.exists(download_dir):\n",
    "    os.makedirs(download_dir)\n",
    "\n",
    "# Define Chrome options and experimental preferences\n",
    "options = uc.ChromeOptions()\n",
    "options.add_argument('--no-sandbox')\n",
    "options.add_argument('--disable-dev-shm-usage')\n",
    "options.add_argument('--disable-blink-features=AutomationControlled')\n",
    "options.add_argument(\"--disable-popup-blocking\")\n",
    "\n",
    "prefs = {\n",
    "    \"profile.default_content_settings.popups\": 0,\n",
    "    \"profile.content_settings.pattern_pairs.*.multiple-automatic-downloads\": 1,\n",
    "    \"download.prompt_for_download\": False,\n",
    "    \"download.default_directory\": download_dir\n",
    "}\n",
    "options.add_experimental_option(\"prefs\", prefs)\n",
    "\n",
    "try:\n",
    "    # Use webdriver_manager to automatically download and manage ChromeDriver\n",
    "    driver_path = ChromeDriverManager().install()\n",
    "    driver = uc.Chrome(options=options)\n",
    "    driver.get(\"https://www.bing.com/images/create?FORM=IRPGEN\")\n",
    "except WebDriverException as e:\n",
    "    print(f\"An error occurred while initializing the WebDriver: {e}\")\n"
   ]
  },
  {
   "cell_type": "code",
   "execution_count": 3,
   "metadata": {},
   "outputs": [],
   "source": [
    "# Open new tabs in the existing window with Bing Image Search for creating images\n",
    "for i in range(1):\n",
    "    driver.execute_script(\"window.open('https://www.bing.com/images/create?FORM=IRPGEN', '_blank');\")"
   ]
  },
  {
   "cell_type": "code",
   "execution_count": 4,
   "metadata": {},
   "outputs": [
    {
     "name": "stdout",
     "output_type": "stream",
     "text": [
      "Tweet_568.jpg downloaded:\n",
      "Tweet_569.jpg downloaded:\n"
     ]
    }
   ],
   "source": [
    "current_dir = os.getcwd()\n",
    "\n",
    "# Get screen dimensions for random movement within the screen\n",
    "screen_width, screen_height = pyautogui.size()\n",
    "\n",
    "# Randomize mouse movement within the screen\n",
    "x = random.randint(0, screen_width)\n",
    "y = random.randint(0, screen_height)\n",
    "\n",
    "# Define download directory within the Copilot folder\n",
    "download_dir = os.path.join(current_dir, 'Copilot')\n",
    "if not os.path.exists(download_dir):\n",
    "    os.makedirs(download_dir)\n",
    "\n",
    "# Read prompts from prompts.txt file\n",
    "with open('prompts.txt', 'r') as file:\n",
    "    prompts = file.readlines()\n",
    "    num_prompts = len(prompts)\n",
    "    \n",
    "\n",
    "    # Initialize a counter for prompt number\n",
    "    prompt_number = 568\n",
    "\n",
    "    # Loop through each set of prompts for each tab\n",
    "    for i in range(0, num_prompts, len(driver.window_handles)):\n",
    "        # Loop through each tab and give the prompt from the current set\n",
    "        for tab_index in range(len(driver.window_handles)):\n",
    "            try:\n",
    "                # Get the prompt text for the current tab index\n",
    "                prompt_text = prompts[prompt_number + tab_index-1].strip()\n",
    "                while prompt_text == \"-\":\n",
    "                    prompt_number+= 1\n",
    "                    prompt_text=prompts[(prompt_number + tab_index - 1) % len(prompts)].strip()\n",
    "\n",
    "                driver.switch_to.window(driver.window_handles[tab_index])\n",
    "\n",
    "                # Find the text input field using its name attribute\n",
    "                time.sleep(random.uniform(5, 10))\n",
    "                text_input = WebDriverWait(driver, 2).until(EC.visibility_of_element_located((By.NAME, \"q\")))\n",
    "                # Clear any existing text in the input field\n",
    "                text_input.clear()\n",
    "                # Enter the prompt text into the text input field\n",
    "                text_input.send_keys(prompt_text)\n",
    "\n",
    "                pyautogui.moveTo(x, y, duration=random.uniform(0.5, 1))\n",
    "\n",
    "                # Find the div containing the 'Create' button and click on it\n",
    "                time.sleep(random.uniform(2, 5))\n",
    "                create_button = WebDriverWait(driver, 2).until(EC.visibility_of_element_located((By.ID, \"create_btn_i\")))\n",
    "                create_button.click()\n",
    "                time.sleep(random.uniform(1, 2.5))\n",
    "\n",
    "            except Exception as e:\n",
    "                try:\n",
    "                    time.sleep(random.uniform(3, 5))\n",
    "                    driver.get(\"https://www.bing.com/images/create?FORM=IRPGEN\")\n",
    "                    text_input = WebDriverWait(driver, 2).until(EC.visibility_of_element_located((By.NAME, \"q\")))\n",
    "                    # Clear any existing text in the input field\n",
    "                    text_input.clear()\n",
    "                    # Enter the prompt text into the text input field\n",
    "                    text_input.send_keys(prompt_text)\n",
    "                except Exception as e:\n",
    "                    driver.get(\"https://www.bing.com/images/create?FORM=IRPGEN\")\n",
    "                    print(f\"Exception occurred in tab {tab_index+1}: Create button not clicked\")\n",
    "                time.sleep(random.uniform(2, 5))\n",
    "                continue\n",
    "\n",
    "        # Loop to get the image source URLs and download images\n",
    "        for tab_index in range(len(driver.window_handles)):\n",
    "            driver.switch_to.window(driver.window_handles[tab_index])\n",
    "\n",
    "            # Wait for a specified time only in the first tab\n",
    "            if tab_index == 0:\n",
    "                driver.switch_to.window(driver.window_handles[0])\n",
    "                time.sleep(random.uniform(60, 80))\n",
    "\n",
    "            try:\n",
    "                # Wait for a random time\n",
    "                driver.get(driver.current_url)\n",
    "                time.sleep(random.uniform(2, 4))\n",
    "\n",
    "                # Wait for the image element to be visible\n",
    "                image_element = WebDriverWait(driver, 10).until(EC.visibility_of_element_located((By.XPATH, \"//img[@class='mimg']\")))\n",
    "\n",
    "                # Get the image source URL\n",
    "                image_src = image_element.get_attribute(\"src\")\n",
    "\n",
    "                # Download the image using requests\n",
    "                response = requests.get(image_src)\n",
    "\n",
    "                # Save the image to a file with the prompt number as part of the name\n",
    "                image_name = f\"Tweet_{prompt_number}.jpg\"\n",
    "                with open(os.path.join(download_dir, image_name), 'wb') as image_file:\n",
    "                    image_file.write(response.content)\n",
    "                    print(f\"{image_name} downloaded:\")\n",
    "                driver.get(\"https://www.bing.com/images/create?FORM=IRPGEN\")\n",
    "                time.sleep(random.uniform(1, 2.5))\n",
    "\n",
    "            except Exception as e:\n",
    "                print(f\"Image not downloaded for {prompt_number} prompt in tab {tab_index + 1}\")\n",
    "                driver.get(\"https://www.bing.com/images/create?FORM=IRPGEN\")\n",
    "                time.sleep(random.uniform(1, 2.5))\n",
    "\n",
    "            prompt_number += 1"
   ]
  },
  {
   "cell_type": "code",
   "execution_count": 20,
   "metadata": {},
   "outputs": [
    {
     "name": "stdout",
     "output_type": "stream",
     "text": [
      "67\n"
     ]
    }
   ],
   "source": [
    "print(f\"{7622- 7555}\")"
   ]
  },
  {
   "cell_type": "code",
   "execution_count": 8,
   "metadata": {},
   "outputs": [],
   "source": [
    "driver.refresh()"
   ]
  }
 ],
 "metadata": {
  "kernelspec": {
   "display_name": "Python 3",
   "language": "python",
   "name": "python3"
  },
  "language_info": {
   "codemirror_mode": {
    "name": "ipython",
    "version": 3
   },
   "file_extension": ".py",
   "mimetype": "text/x-python",
   "name": "python",
   "nbconvert_exporter": "python",
   "pygments_lexer": "ipython3",
   "version": "3.10.11"
  }
 },
 "nbformat": 4,
 "nbformat_minor": 2
}
