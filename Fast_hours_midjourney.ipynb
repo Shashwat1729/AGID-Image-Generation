{
 "cells": [
  {
   "cell_type": "code",
   "execution_count": null,
   "metadata": {},
   "outputs": [],
   "source": [
    "!pip install random time pyautogui undetected-chromedriver selenium"
   ]
  },
  {
   "cell_type": "code",
   "execution_count": 12,
   "metadata": {},
   "outputs": [],
   "source": [
    "import random\n",
    "import time\n",
    "from time import sleep\n",
    "import pyautogui\n",
    "import undetected_chromedriver as uc\n",
    "from selenium import webdriver\n",
    "from selenium.webdriver.common.by import By\n",
    "from selenium.webdriver.support.ui import WebDriverWait\n",
    "from selenium.webdriver.support import expected_conditions as EC\n",
    "from selenium.webdriver.common.action_chains import ActionChains\n",
    "from selenium.webdriver.common.keys import Keys\n",
    "from selenium.webdriver.common.alert import Alert"
   ]
  },
  {
   "cell_type": "code",
   "execution_count": 8,
   "metadata": {},
   "outputs": [],
   "source": [
    "# Define Chrome options and experimental preferences\n",
    "options = uc.ChromeOptions()\n",
    "\n",
    "options.add_argument('--no-sandbox')\n",
    "options.add_argument('--disable-dev-shm-usage')\n",
    "options.add_argument('--disable-blink-features=AutomationControlled')\n",
    "prefs = {\n",
    "    \"profile.default_content_settings.popups\": 0,\n",
    "    \"profile.content_settings.pattern_pairs.*.multiple-automatic-downloads\": 1,\n",
    "    \"download.prompt_for_download\": False\n",
    "}\n",
    "options.add_experimental_option(\"prefs\",prefs)\n",
    "# Initialize undetected Chrome driver with the configured options\n",
    "driver = uc.Chrome(options=options)\n",
    "\n",
    "driver.get(\"https://www.midjourney.com/home\")"
   ]
  },
  {
   "cell_type": "code",
   "execution_count": null,
   "metadata": {},
   "outputs": [],
   "source": [
    "# Get screen dimensions for random movement within the screen\n",
    "screen_width, screen_height = pyautogui.size()\n",
    "\n",
    "# Set initial time and total time in seconds\n",
    "start_time = time.time()\n",
    "total_time = 20 * 60  # 30 minutes\n",
    "\n",
    "# Loop until total time is reached\n",
    "while time.time() - start_time < total_time:\n",
    "    try:\n",
    "        # Generate a random number between 1 and 3\n",
    "        key_to_send = random.choices([1, 2, 3], weights=[55, 45, 5])[0]  # Adjust weights as desired\n",
    "        \n",
    "        # Send the random number\n",
    "        ActionChains(driver).send_keys(str(key_to_send)).perform()\n",
    "        \n",
    "        # Randomize mouse movement within the screen\n",
    "        x = random.randint(0, screen_width)\n",
    "        y = random.randint(0, screen_height)\n",
    "                \n",
    "        pyautogui.moveTo(x, y, duration=random.uniform(0.1, 0.2))\n",
    "        \n",
    "        # Wait for a few seconds\n",
    "        time.sleep(random.uniform(2, 7))\n",
    "    except Exception as e:\n",
    "        print(\"Error:\", e)\n",
    "        if \"Please type 'ok' in the input box to continue ranking\" in str(e):\n",
    "            alert = Alert(driver)\n",
    "            alert.send_keys(\"ok\")\n",
    "            alert.accept()\n",
    "        else:\n",
    "            driver.get(driver.current_url)\n",
    "            time.sleep(random.uniform(5, 10))\n",
    "            pass"
   ]
  }
 ],
 "metadata": {
  "kernelspec": {
   "display_name": "Python 3",
   "language": "python",
   "name": "python3"
  },
  "language_info": {
   "codemirror_mode": {
    "name": "ipython",
    "version": 3
   },
   "file_extension": ".py",
   "mimetype": "text/x-python",
   "name": "python",
   "nbconvert_exporter": "python",
   "pygments_lexer": "ipython3",
   "version": "3.10.11"
  }
 },
 "nbformat": 4,
 "nbformat_minor": 2
}
